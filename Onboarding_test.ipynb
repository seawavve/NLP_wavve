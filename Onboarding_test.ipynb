{
  "nbformat": 4,
  "nbformat_minor": 0,
  "metadata": {
    "colab": {
      "name": "Untitled85.ipynb",
      "provenance": [],
      "authorship_tag": "ABX9TyNOVpWpK/tsKFOGAOTqa8Or",
      "include_colab_link": true
    },
    "kernelspec": {
      "name": "python3",
      "display_name": "Python 3"
    },
    "language_info": {
      "name": "python"
    }
  },
  "cells": [
    {
      "cell_type": "markdown",
      "metadata": {
        "id": "view-in-github",
        "colab_type": "text"
      },
      "source": [
        "<a href=\"https://colab.research.google.com/github/seawavve/NLP_wavve/blob/main/Onboarding_test.ipynb\" target=\"_parent\"><img src=\"https://colab.research.google.com/assets/colab-badge.svg\" alt=\"Open In Colab\"/></a>"
      ]
    },
    {
      "cell_type": "markdown",
      "source": [
        "### 1. Tokenizer 생성"
      ],
      "metadata": {
        "id": "6Yw07_OLrjaB"
      }
    },
    {
      "cell_type": "code",
      "execution_count": 25,
      "metadata": {
        "id": "9wldOSdBriDc"
      },
      "outputs": [],
      "source": [
        "import re\n",
        "\n",
        "class Tokenizer():\n",
        "  def __init__(self):\n",
        "    self.word_dict = {'oov': 0}\n",
        "    self.fit_checker = False\n",
        "  \n",
        "  def preprocessing(self, sequences):\n",
        "    result = []\n",
        "    for sequence in sequences:\n",
        "      # 소문자로 변환\n",
        "      sequence=sequence.lower()\n",
        "      # 특수문자 제거\n",
        "      sequence=re.sub('[^a-zA-Z0-9 ]', '', sequence)\n",
        "      # white space 단위 자르기\n",
        "      splited_sequence = sequence.split(' ')\n",
        "      result.append(splited_sequence)\n",
        "    return result\n",
        "  \n",
        "  def fit(self, sequences):\n",
        "    self.fit_checker = False\n",
        "    # preprocessing 함수로 토큰화\n",
        "    tokenized_sequence=self.preprocessing(sequences)\n",
        "    # 어휘사전 생성\n",
        "    \n",
        "    for idx in range(len(set(tokenized_sequence))):\n",
        "      pass\n",
        "    '''\n",
        "    문제 1-2.\n",
        "    '''\n",
        "    self.fit_checker = True\n",
        "  \n",
        "  def transform(self, sequences):\n",
        "    result = []\n",
        "    tokens = self.preprocessing(sequences)\n",
        "    if self.fit_checker:\n",
        "      # oov 처리\n",
        "      '''\n",
        "      문제 1-3.\n",
        "      '''\n",
        "      return result\n",
        "    else:\n",
        "      raise Exception(\"Tokenizer instance is not fitted yet.\")\n",
        "      \n",
        "  def fit_transform(self, sequences):\n",
        "    self.fit(sequences)\n",
        "    result = self.transform(sequences)\n",
        "    return result"
      ]
    },
    {
      "cell_type": "code",
      "source": [
        "tokenizer=Tokenizer()\n",
        "sentences = ['I go to school.', 'I LIKE pizza!']\n",
        "print(tokenizer.preprocessing(sentences))\n",
        "# print(tokenizer.fit(sentences))"
      ],
      "metadata": {
        "colab": {
          "base_uri": "https://localhost:8080/"
        },
        "id": "fDOiI5Dkup-s",
        "outputId": "c84fd556-72cd-42a2-b46c-98e3adc01840"
      },
      "execution_count": 26,
      "outputs": [
        {
          "output_type": "stream",
          "name": "stdout",
          "text": [
            "[['i', 'go', 'to', 'school'], ['i', 'like', 'pizza']]\n"
          ]
        }
      ]
    }
  ]
}