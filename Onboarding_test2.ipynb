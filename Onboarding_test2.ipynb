{
  "nbformat": 4,
  "nbformat_minor": 0,
  "metadata": {
    "colab": {
      "name": "Untitled85.ipynb",
      "provenance": [],
      "authorship_tag": "ABX9TyPaGeJ3LCWgqAN9UhQPTCzH",
      "include_colab_link": true
    },
    "kernelspec": {
      "name": "python3",
      "display_name": "Python 3"
    },
    "language_info": {
      "name": "python"
    }
  },
  "cells": [
    {
      "cell_type": "markdown",
      "metadata": {
        "id": "view-in-github",
        "colab_type": "text"
      },
      "source": [
        "<a href=\"https://colab.research.google.com/github/seawavve/NLP_wavve/blob/main/Onboarding_test2.ipynb\" target=\"_parent\"><img src=\"https://colab.research.google.com/assets/colab-badge.svg\" alt=\"Open In Colab\"/></a>"
      ]
    },
    {
      "cell_type": "markdown",
      "source": [
        "### 1. Tokenizer 생성"
      ],
      "metadata": {
        "id": "6Yw07_OLrjaB"
      }
    },
    {
      "cell_type": "code",
      "execution_count": 48,
      "metadata": {
        "id": "9wldOSdBriDc"
      },
      "outputs": [],
      "source": [
        "import re\n",
        "\n",
        "# 다 반드시 word_dict에 포함되게 되어있는데 왜 oov를 쓰지?\n",
        "# 대문자나 특수문자를 사전과는 다르다는걸 표기하고싶나?\n",
        "\n",
        "class Tokenizer():\n",
        "  def __init__(self):\n",
        "    self.word_dict = {'oov': 0}\n",
        "    self.fit_checker = False\n",
        "  \n",
        "  def preprocessing(self, sequences):\n",
        "    result = []\n",
        "    for sequence in sequences:\n",
        "      # 소문자로 변환\n",
        "      sequence=sequence.lower()\n",
        "      # 특수문자 제거\n",
        "      sequence=re.sub('[^a-zA-Z0-9 ]', '', sequence)\n",
        "      # white space 단위 자르기\n",
        "      splited_sequence = sequence.split(' ')\n",
        "      result.append(splited_sequence)\n",
        "    return result\n",
        "  \n",
        "  def fit(self, sequences):\n",
        "    self.fit_checker = False\n",
        "    # preprocessing 함수로 토큰화\n",
        "    tokenized_sequences=self.preprocessing(sequences)\n",
        "    words_list=[]\n",
        "    set_words=set()\n",
        "    # 어휘사전 생성 (lambda로 개선여지)\n",
        "    for tokenized_sequence in tokenized_sequences:\n",
        "      words_list.extend(tokenized_sequence)\n",
        "    # print('set',list(set(words_list)))\n",
        "    for idx in range(len(list(set(words_list)))):\n",
        "      self.word_dict[list(set(words_list))[idx]]=idx+1\n",
        "    # print(word_dict)\n",
        "    self.fit_checker = True\n",
        "  \n",
        "  def transform(self, sequences):\n",
        "    tokens = self.preprocessing(sequences)\n",
        "    print(tokens)\n",
        "    transformed_sentences=[]\n",
        "    if self.fit_checker:\n",
        "      for token in tokens:\n",
        "        transformed_sentence=[]\n",
        "        for idx in range(len(token)):\n",
        "          if token[idx] in self.word_dict.keys():\n",
        "            transformed_sentence.append(self.word_dict[token[idx]])\n",
        "          else:\n",
        "            transformed_sentence.append(self.word_dict['oov'])\n",
        "        transformed_sentences.append(transformed_sentence)\n",
        "        # print(transformed_sentences)\n",
        "      return transformed_sentences\n",
        "    else:\n",
        "      raise Exception(\"Tokenizer instance is not fitted yet.\")\n",
        "      \n",
        "  def fit_transform(self, sequences):\n",
        "    self.fit(sequences)\n",
        "    result = self.transform(sequences)\n",
        "    print(result)\n",
        "    return result"
      ]
    },
    {
      "cell_type": "code",
      "source": [
        "tokenizer=Tokenizer()\n",
        "sentences = ['I go to school.', 'I LIKE pizza!']\n",
        "test_sentences = ['I like to PARTY','miss you']\n",
        "# print(tokenizer.preprocessing(sentences))\n",
        "# print('tokenizer.fit(sentences)')\n",
        "# print(tokenizer.fit(sentences))\n",
        "# print('tokenizer.transform(sentences)')\n",
        "# print(tokenizer.transform(sentences))\n",
        "\n",
        "print(tokenizer.fit_transform(test_sentences))"
      ],
      "metadata": {
        "colab": {
          "base_uri": "https://localhost:8080/"
        },
        "id": "fDOiI5Dkup-s",
        "outputId": "913d06ad-24b7-4324-e6f9-71380c4b6d8d"
      },
      "execution_count": 50,
      "outputs": [
        {
          "output_type": "stream",
          "name": "stdout",
          "text": [
            "[['i', 'like', 'to', 'party'], ['miss', 'you']]\n",
            "[[1, 3, 4, 6], [2, 5]]\n",
            "[[1, 3, 4, 6], [2, 5]]\n"
          ]
        }
      ]
    }
  ]
}