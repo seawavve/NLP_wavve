{
  "nbformat": 4,
  "nbformat_minor": 0,
  "metadata": {
    "colab": {
      "name": "Untitled85.ipynb",
      "provenance": [],
      "include_colab_link": true
    },
    "kernelspec": {
      "name": "python3",
      "display_name": "Python 3"
    },
    "language_info": {
      "name": "python"
    }
  },
  "cells": [
    {
      "cell_type": "markdown",
      "metadata": {
        "id": "view-in-github",
        "colab_type": "text"
      },
      "source": [
        "<a href=\"https://colab.research.google.com/github/seawavve/NLP_wavve/blob/main/Onboarding_test6.ipynb\" target=\"_parent\"><img src=\"https://colab.research.google.com/assets/colab-badge.svg\" alt=\"Open In Colab\"/></a>"
      ]
    },
    {
      "cell_type": "markdown",
      "source": [
        "### 1. Tokenizer 생성"
      ],
      "metadata": {
        "id": "6Yw07_OLrjaB"
      }
    },
    {
      "cell_type": "markdown",
      "source": [
        "제출전 확인할 사항\n",
        "* 클린코드 유의\n",
        "* = 사이 띄어쓰기로 가독성 높이기\n",
        "* word_dict, dict_word 이런 변수명 순서 통일성"
      ],
      "metadata": {
        "id": "yVSpuB2KxWR3"
      }
    },
    {
      "cell_type": "code",
      "execution_count": 27,
      "metadata": {
        "id": "9wldOSdBriDc"
      },
      "outputs": [],
      "source": [
        "import re\n",
        "\n",
        "# 다 반드시 word_dict에 포함되게 되어있는데 왜 oov를 쓰지?\n",
        "# 대문자나 특수문자를 사전과는 다르다는걸 표기하고싶나?\n",
        "\n",
        "class Tokenizer():\n",
        "  def __init__(self):\n",
        "    self.word_dict = {'oov': 0}\n",
        "    self.fit_checker = False\n",
        "  \n",
        "  # 텍스트 전처리\n",
        "  def preprocessing(self, sequences):\n",
        "    result = []\n",
        "    for sequence in sequences:\n",
        "      sequence=sequence.lower()  # 소문자로 변환\n",
        "      sequence=re.sub('[^a-zA-Z0-9 ]', '', sequence) # 특수문자 제거\n",
        "      splited_sequence = sequence.split(' ') # white space 단위 자르기\n",
        "      result.append(splited_sequence)\n",
        "    return result\n",
        "  \n",
        "  # 어휘 사전을 구축\n",
        "  def fit(self, sequences):\n",
        "    self.fit_checker = False\n",
        "    tokenized_sequences=self.preprocessing(sequences)\n",
        "    words_list=[]\n",
        "\n",
        "    # 어휘사전 생성\n",
        "    for tokenized_sequence in tokenized_sequences:\n",
        "      words_list.extend(tokenized_sequence)\n",
        "    words_set=list(set(words_list))\n",
        "    for idx in range(len(words_set)):\n",
        "      word = words_set[idx]\n",
        "      self.word_dict[word]=idx+1\n",
        "    self.fit_checker = True\n",
        "    print(self.word_dict)\n",
        "  \n",
        "  # 어휘 사전을 활용하여 입력 문장을 정수 인덱싱\n",
        "  def transform(self, sequences):\n",
        "    tokens = self.preprocessing(sequences)\n",
        "    transformed_sentences=[]\n",
        "\n",
        "    if self.fit_checker:\n",
        "      for token in tokens:\n",
        "        transformed_sentence=[]\n",
        "        for idx in range(len(token)):\n",
        "          word = token[idx]\n",
        "          if word in self.word_dict:\n",
        "            transformed_sentence.append(self.word_dict[word])\n",
        "          else:\n",
        "            transformed_sentence.append(self.word_dict['oov'])\n",
        "        transformed_sentences.append(transformed_sentence)\n",
        "      return transformed_sentences\n",
        "    else:\n",
        "      raise Exception(\"Tokenizer instance is not fitted yet.\")\n",
        "      \n",
        "  def fit_transform(self, sequences):\n",
        "    self.fit(sequences)\n",
        "    result = self.transform(sequences)\n",
        "    return result"
      ]
    },
    {
      "cell_type": "code",
      "source": [
        "tokenizer=Tokenizer()\n",
        "sentences = ['I go to school.', 'I LIKE pizza!']\n",
        "test_sentences = ['I like to PARTY','miss you']\n",
        "print(tokenizer.fit_transform(test_sentences))"
      ],
      "metadata": {
        "colab": {
          "base_uri": "https://localhost:8080/"
        },
        "id": "fDOiI5Dkup-s",
        "outputId": "288707d5-6118-4ae0-8c07-2f8f1facd4c1"
      },
      "execution_count": 28,
      "outputs": [
        {
          "output_type": "stream",
          "name": "stdout",
          "text": [
            "{'oov': 0, 'like': 1, 'you': 2, 'to': 3, 'i': 4, 'miss': 5, 'party': 6}\n",
            "[[4, 1, 3, 6], [5, 2]]\n"
          ]
        }
      ]
    },
    {
      "cell_type": "markdown",
      "source": [
        "### 2.TfidfVectorizer 생성하기"
      ],
      "metadata": {
        "id": "oW3XJvsAzPeG"
      }
    },
    {
      "cell_type": "markdown",
      "source": [
        "참고자료\n",
        "https://wikidocs.net/31698"
      ],
      "metadata": {
        "id": "AXmjQNmLBmmy"
      }
    },
    {
      "cell_type": "code",
      "source": [
        "from math import log\n",
        "\n",
        "class TfidfVectorizer:\n",
        "  def __init__(self, tokenizer):\n",
        "    self.tokenizer = tokenizer\n",
        "    self.fit_checker = False\n",
        "    self.tfidf_matrix = list()\n",
        "    self.idf_matrix = list()\n",
        "  \n",
        "  #대문자는 df 처리가 안된다. 노린문제인가? 이런경우 어떻게 처리하는가?\n",
        "  def fit(self, sequences):\n",
        "    tokenized = self.tokenizer.fit_transform(sequences)\n",
        "    result=list()\n",
        "    N=len(sequences)\n",
        "\n",
        "    #IDF 행렬 만들기\n",
        "    for word in self.tokenizer.word_dict:\n",
        "      df = 0\n",
        "      for sequence in sequences:\n",
        "        if word in sequence:\n",
        "          df += 1\n",
        "      result.append( log(N/(df+1)) )\n",
        "    self.idf_matrix = result\n",
        "    self.fit_checker = True\n",
        "    \n",
        "\n",
        "  def transform(self, sequences):\n",
        "    if self.fit_checker:\n",
        "      tokenized = self.tokenizer.transform(sequences)\n",
        "      print(tokenized)\n",
        "\n",
        "      #TF-iDF 행렬 만들기\n",
        "      for tokenized_sequence in tokenized :\n",
        "        tf_list=[]\n",
        "        for idx in range(len(self.idf_matrix)):\n",
        "          tf = tokenized_sequence.count(idx)\n",
        "          idf = self.idf_matrix[idx]\n",
        "          tf_idf = tf*idf\n",
        "          tf_list.append( tf_idf )\n",
        "        self.tfidf_matrix.append(tf_list)\n",
        "      return self.tfidf_matrix\n",
        "    else:\n",
        "      raise Exception(\"TfidfVectorizer instance is not fitted yet.\")\n",
        "\n",
        "  \n",
        "  def fit_transform(self, sequences):\n",
        "    self.fit(sequences)\n",
        "    return self.transform(sequences)"
      ],
      "metadata": {
        "id": "hQNrp2fzzWQK"
      },
      "execution_count": 50,
      "outputs": []
    },
    {
      "cell_type": "code",
      "source": [
        "tfidf_tokenizer = TfidfVectorizer(tokenizer)\n",
        "sentences = ['I go to school.', 'I LIKE pizza!']\n",
        "test_sentences = ['I like to PARTY','miss you', 'I Love you baby!']\n",
        "print(tfidf_tokenizer.fit(test_sentences))\n",
        "print(tfidf_tokenizer.transform(test_sentences))"
      ],
      "metadata": {
        "id": "4r61MW25zWiR",
        "colab": {
          "base_uri": "https://localhost:8080/"
        },
        "outputId": "44e77f64-1ec9-4b15-960b-f89822b8377b"
      },
      "execution_count": 52,
      "outputs": [
        {
          "output_type": "stream",
          "name": "stdout",
          "text": [
            "{'oov': 0, 'like': 1, 'you': 2, 'to': 3, 'i': 4, 'miss': 5, 'party': 7, 'love': 6, 'baby': 8}\n",
            "None\n",
            "[[4, 1, 3, 7], [5, 2], [4, 6, 2, 8]]\n",
            "[[0.0, 0.4054651081081644, 0.0, 0.4054651081081644, 0.0, 0.0, 0.0, 1.0986122886681098, 0.0], [0.0, 0.0, 0.0, 0.0, 0.0, 0.4054651081081644, 0.0, 0.0, 0.0], [0.0, 0.0, 0.0, 0.0, 0.0, 0.0, 1.0986122886681098, 0.0, 0.4054651081081644]]\n"
          ]
        }
      ]
    },
    {
      "cell_type": "code",
      "source": [
        ""
      ],
      "metadata": {
        "id": "PDUAGH7ozWTW"
      },
      "execution_count": null,
      "outputs": []
    }
  ]
}